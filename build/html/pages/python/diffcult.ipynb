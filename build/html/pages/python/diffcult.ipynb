{
 "cells": [
  {
   "cell_type": "markdown",
   "metadata": {
    "collapsed": false
   },
   "source": [
    "# pythonで理解するのが大変な分野のまとめ食い\n",
    "## 並列化\n",
    "### スレッドについて"
   ]
  },
  {
   "cell_type": "code",
   "execution_count": 5,
   "metadata": {
    "collapsed": false,
    "pycharm": {
     "name": "#%%\n"
    }
   },
   "outputs": [
    {
     "name": "stderr",
     "output_type": "stream",
     "text": [
      "rename worker1: start\n"
     ]
    },
    {
     "name": "stdout",
     "output_type": "stream",
     "text": [
      "スレッドがスタートしたよん\n"
     ]
    },
    {
     "name": "stderr",
     "output_type": "stream",
     "text": [
      "Thread-10: start\n",
      "Thread-10: 100\n",
      "Thread-10: 200\n"
     ]
    }
   ],
   "source": [
    "import logging\n",
    "import threading\n",
    "import time\n",
    "\n",
    "logging.basicConfig(\n",
    "    level=logging.DEBUG,\n",
    "    format=\"%(threadName)s: %(message)s\"\n",
    ")\n",
    "\n",
    "\n",
    "def worker1():\n",
    "    logging.debug(\"start\")\n",
    "    time.sleep(2)\n",
    "    logging.debug(\"end\")\n",
    "\n",
    "\n",
    "def worker2(x, y=1):\n",
    "    logging.debug(\"start\")\n",
    "    logging.debug(x)\n",
    "    logging.debug(y)\n",
    "    time.sleep(2)\n",
    "    logging.debug(\"end\")\n",
    "\n",
    "\n",
    "# スレッドを使用するときはmain関数を使用する。\n",
    "if __name__ == '__main__':\n",
    "    t1 = threading.Thread(\n",
    "        name=\"rename worker1\",\n",
    "        target=worker1\n",
    "    )\n",
    "\n",
    "    # 引数渡す時はargsとkwargsを使用する。\n",
    "    t2 = threading.Thread(\n",
    "        target=worker2,\n",
    "        args=(100,),\n",
    "        kwargs={\"y\": 200}\n",
    "    )\n",
    "\n",
    "    t1.start()\n",
    "    t2.start()\n",
    "    print(\"スレッドがスタートしたよん\")\n"
   ]
  },
  {
   "cell_type": "code",
   "execution_count": 2,
   "metadata": {
    "collapsed": false,
    "pycharm": {
     "name": "#%%\n"
    }
   },
   "outputs": [],
   "source": []
  },
  {
   "cell_type": "code",
   "execution_count": 2,
   "metadata": {
    "collapsed": false,
    "pycharm": {
     "name": "#%%\n"
    }
   },
   "outputs": [],
   "source": []
  },
  {
   "cell_type": "code",
   "execution_count": null,
   "metadata": {
    "collapsed": false,
    "pycharm": {
     "name": "#%%\n"
    }
   },
   "outputs": [],
   "source": []
  }
 ],
 "metadata": {
  "kernelspec": {
   "display_name": "Python 3",
   "language": "python",
   "name": "python3"
  },
  "language_info": {
   "codemirror_mode": {
    "name": "ipython",
    "version": 2
   },
   "file_extension": ".py",
   "mimetype": "text/x-python",
   "name": "python",
   "nbconvert_exporter": "python",
   "pygments_lexer": "ipython2",
   "version": "2.7.6"
  }
 },
 "nbformat": 4,
 "nbformat_minor": 0
}
