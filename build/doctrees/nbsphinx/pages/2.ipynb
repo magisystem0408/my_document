{
 "cells": [
  {
   "cell_type": "markdown",
   "metadata": {
    "collapsed": false
   },
   "source": [
    "# データ構造操作"
   ]
  },
  {
   "cell_type": "markdown",
   "metadata": {
    "collapsed": false
   },
   "source": [
    "## ソート\n",
    "### bubbleソート"
   ]
  },
  {
   "cell_type": "code",
   "execution_count": 7,
   "metadata": {
    "collapsed": false,
    "pycharm": {
     "name": "#%%\n"
    }
   },
   "outputs": [],
   "source": [
    "from typing import List\n",
    "\n",
    "\n",
    "def bubble_sort(numbers: List[int]) -> List[int]:\n",
    "    len_numbers = len(numbers)\n",
    "    for i in range(len_numbers):\n",
    "        for j in range(len_numbers - 1 - i):\n",
    "            if numbers[j] > numbers[j + 1]:\n",
    "                numbers[j], numbers[j + 1] = numbers[j + 1], numbers[j]\n",
    "    return numbers\n",
    "\n",
    "\n",
    "if __name__ == '__main__':\n",
    "    import random\n",
    "\n",
    "    nums = [random.randint(0, 1000) for i in range(10)]\n",
    "    bubble_sort(nums)\n"
   ]
  },
  {
   "cell_type": "markdown",
   "metadata": {
    "collapsed": false
   },
   "source": [
    "### insertionソート"
   ]
  },
  {
   "cell_type": "code",
   "execution_count": 12,
   "metadata": {
    "collapsed": false,
    "pycharm": {
     "name": "#%%\n"
    }
   },
   "outputs": [],
   "source": [
    "from typing import List\n",
    "\n",
    "\n",
    "def insertion_sort(numbers: List[int]) -> List[int]:\n",
    "    len_numbers = len(numbers)\n",
    "    for i in range(1, len_numbers):\n",
    "        temp = numbers[i]\n",
    "        j = i - 1\n",
    "        while j >= 0 and numbers[j] > temp:\n",
    "            numbers[j + 1] = numbers[j]\n",
    "            j -= 1\n",
    "        numbers[j + 1] = temp\n",
    "    return numbers\n",
    "\n",
    "\n",
    "if __name__ == '__main__':\n",
    "    import random\n",
    "\n",
    "    nums = [random.randint(0, 1000) for _ in random(10)]\n",
    "    insertion_sort(nums)\n"
   ]
  },
  {
   "cell_type": "markdown",
   "metadata": {
    "collapsed": false
   },
   "source": [
    "### selectソート"
   ]
  },
  {
   "cell_type": "code",
   "execution_count": 18,
   "metadata": {
    "collapsed": false,
    "pycharm": {
     "name": "#%%\n"
    }
   },
   "outputs": [],
   "source": [
    "from typing import List\n",
    "\n",
    "\n",
    "def selection_sort(numbers: List[int]) -> List[int]:\n",
    "    len_numbers = len(numbers)\n",
    "    for i in range(len_numbers):\n",
    "\n",
    "        min_idx = i\n",
    "        for j in range(i + 1, len_numbers):\n",
    "            if numbers[min_idx] > numbers[j]:\n",
    "                min_idx = j\n",
    "\n",
    "        #入れ替え\n",
    "        numbers[i], numbers[min_idx] = numbers[min_idx], numbers[i]\n",
    "    return numbers\n",
    "if __name__ == '__main__':\n",
    "    import random\n",
    "    nums =[random.randint(0,1000) for _ in range(10)]\n",
    "    selection_sort(nums)"
   ]
  },
  {
   "cell_type": "code",
   "execution_count": null,
   "metadata": {
    "collapsed": false,
    "pycharm": {
     "name": "#%%\n"
    }
   },
   "outputs": [],
   "source": []
  },
  {
   "cell_type": "markdown",
   "metadata": {
    "collapsed": false
   },
   "source": [
    "## キュー&スタック\n",
    "### キュー"
   ]
  },
  {
   "cell_type": "code",
   "execution_count": 14,
   "metadata": {
    "collapsed": false,
    "pycharm": {
     "name": "#%%\n"
    }
   },
   "outputs": [],
   "source": [
    "from typing import Any\n",
    "\n",
    "\n",
    "class Queue(object):\n",
    "    def __init__(self):\n",
    "        self.queue = []\n",
    "\n",
    "    # データ追加\n",
    "    def enqueue(self, data: Any) -> None:\n",
    "        self.queue.append(data)\n",
    "\n",
    "    # データ取り出し\n",
    "    def dequeue(self, data: Any) -> Any:\n",
    "        if self.queue:\n",
    "            return self.queue.pop(0)\n",
    "\n",
    "\n",
    "if __name__ == '__main__':\n",
    "    q = Queue()\n",
    "    q.enqueue(1)\n",
    "    q.dequeue(1)\n"
   ]
  },
  {
   "cell_type": "markdown",
   "metadata": {
    "collapsed": false
   },
   "source": [
    "### スタック"
   ]
  },
  {
   "cell_type": "code",
   "execution_count": 15,
   "metadata": {
    "collapsed": false,
    "pycharm": {
     "name": "#%%\n"
    }
   },
   "outputs": [],
   "source": [
    "from typing import Any\n",
    "\n",
    "\n",
    "class Stack(object):\n",
    "    def __init__(self) -> None:\n",
    "        self.stack = []\n",
    "\n",
    "    def push(self, data) -> None:\n",
    "        self.stack.append(data)\n",
    "\n",
    "    def pop(self) -> Any:\n",
    "        if self.stack:\n",
    "            return self.stack.pop()\n",
    "\n",
    "\n",
    "if __name__ == '__main__':\n",
    "    stack = Stack()\n",
    "    stack.push(1)\n",
    "    stack.pop()"
   ]
  },
  {
   "cell_type": "markdown",
   "metadata": {
    "collapsed": false
   },
   "source": [
    "### サーチ\n",
    "## リニアサーチ"
   ]
  },
  {
   "cell_type": "code",
   "execution_count": 16,
   "metadata": {
    "collapsed": false,
    "pycharm": {
     "name": "#%%\n"
    }
   },
   "outputs": [],
   "source": [
    "from typing import List, NewType\n",
    "\n",
    "# 新しい型を定義\n",
    "IndexNum = NewType(\"IndexNum\", int)\n",
    "\n",
    "\n",
    "def linear_search(numbers: List[int], value: int) -> IndexNum:\n",
    "    for i in range(0, len(numbers)):\n",
    "        if numbers[i] == value:\n",
    "            return i\n",
    "    # もし存在しなかったら-1を返す\n",
    "    return -1"
   ]
  },
  {
   "cell_type": "markdown",
   "metadata": {
    "collapsed": false
   },
   "source": [
    "### バイナリサーチ"
   ]
  },
  {
   "cell_type": "code",
   "execution_count": 17,
   "metadata": {
    "collapsed": false,
    "pycharm": {
     "name": "#%%\n"
    }
   },
   "outputs": [],
   "source": [
    "def binary_search(numbers: List[int], value: int) -> IndexNum:\n",
    "    left, right = 0, len(numbers) - 1\n",
    "    while left < right:\n",
    "        mid = (left + right) // 2\n",
    "        if numbers[mid] == value:\n",
    "            return mid\n",
    "        elif numbers[mid] < value:\n",
    "            left = mid + 1\n",
    "        else:\n",
    "            right = mid - 1\n",
    "    return -1\n",
    "\n",
    "\n",
    "#リカージョンで記述した時。\n",
    "\n",
    "def binary_search(numbers: List[int], value: int) -> IndexNum:\n",
    "    def _binary_search(numbers: List[int], value,\n",
    "                       left: IndexNum, right: IndexNum) -> IndexNum:\n",
    "        if left > right:\n",
    "            return -1\n",
    "        mid = (left + right) // 2\n",
    "        if numbers[mid] == value:\n",
    "            return mid\n",
    "        elif numbers < value:\n",
    "            return _binary_search(numbers, value, mid + 1, right)\n",
    "        else:\n",
    "            return _binary_search(numbers, value, left, mid - 1)\n",
    "\n",
    "    return _binary_search(numbers, value, 0, len(numbers) - 1)\n",
    "\n",
    "\n",
    "if __name__ == '__main__':\n",
    "    num = [0, 1, 3, 5, 6, 11, 25, 40]"
   ]
  },
  {
   "cell_type": "code",
   "execution_count": null,
   "metadata": {
    "collapsed": false,
    "pycharm": {
     "name": "#%%\n"
    }
   },
   "outputs": [],
   "source": []
  }
 ],
 "metadata": {
  "kernelspec": {
   "display_name": "Python 3",
   "language": "python",
   "name": "python3"
  },
  "language_info": {
   "codemirror_mode": {
    "name": "ipython",
    "version": 2
   },
   "file_extension": ".py",
   "mimetype": "text/x-python",
   "name": "python",
   "nbconvert_exporter": "python",
   "pygments_lexer": "ipython2",
   "version": "2.7.6"
  }
 },
 "nbformat": 4,
 "nbformat_minor": 0
}
