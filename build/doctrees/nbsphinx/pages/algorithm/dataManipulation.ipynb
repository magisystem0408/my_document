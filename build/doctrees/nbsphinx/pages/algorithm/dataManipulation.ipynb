{
 "cells": [
  {
   "cell_type": "markdown",
   "metadata": {
    "collapsed": false
   },
   "source": [
    "# データ構造操作"
   ]
  },
  {
   "cell_type": "markdown",
   "metadata": {
    "collapsed": false
   },
   "source": [
    "## ソート\n",
    "### bubbleソート"
   ]
  },
  {
   "cell_type": "code",
   "execution_count": 7,
   "metadata": {
    "collapsed": false,
    "pycharm": {
     "name": "#%%\n"
    }
   },
   "outputs": [],
   "source": [
    "from typing import List\n",
    "\n",
    "\n",
    "def bubble_sort(numbers: List[int]) -> List[int]:\n",
    "    len_numbers = len(numbers)\n",
    "    for i in range(len_numbers):\n",
    "        for j in range(len_numbers - 1 - i):\n",
    "            if numbers[j] > numbers[j + 1]:\n",
    "                numbers[j], numbers[j + 1] = numbers[j + 1], numbers[j]\n",
    "    return numbers\n",
    "\n",
    "\n",
    "if __name__ == '__main__':\n",
    "    import random\n",
    "\n",
    "    nums = [random.randint(0, 1000) for i in range(10)]\n",
    "    bubble_sort(nums)\n"
   ]
  },
  {
   "cell_type": "markdown",
   "metadata": {
    "collapsed": false
   },
   "source": [
    "### insertionソート"
   ]
  },
  {
   "cell_type": "code",
   "execution_count": 12,
   "metadata": {
    "collapsed": false,
    "pycharm": {
     "name": "#%%\n"
    }
   },
   "outputs": [],
   "source": [
    "from typing import List\n",
    "\n",
    "\n",
    "def insertion_sort(numbers: List[int]) -> List[int]:\n",
    "    len_numbers = len(numbers)\n",
    "    for i in range(1, len_numbers):\n",
    "        temp = numbers[i]\n",
    "        j = i - 1\n",
    "        while j >= 0 and numbers[j] > temp:\n",
    "            numbers[j + 1] = numbers[j]\n",
    "            j -= 1\n",
    "        numbers[j + 1] = temp\n",
    "    return numbers\n",
    "\n",
    "\n",
    "if __name__ == '__main__':\n",
    "    import random\n",
    "\n",
    "    nums = [random.randint(0, 1000) for _ in random(10)]\n",
    "    insertion_sort(nums)\n"
   ]
  },
  {
   "cell_type": "markdown",
   "metadata": {
    "collapsed": false
   },
   "source": [
    "### selectソート"
   ]
  },
  {
   "cell_type": "code",
   "execution_count": 18,
   "metadata": {
    "collapsed": false,
    "pycharm": {
     "name": "#%%\n"
    }
   },
   "outputs": [],
   "source": [
    "from typing import List\n",
    "\n",
    "\n",
    "def selection_sort(numbers: List[int]) -> List[int]:\n",
    "    len_numbers = len(numbers)\n",
    "    for i in range(len_numbers):\n",
    "\n",
    "        min_idx = i\n",
    "        for j in range(i + 1, len_numbers):\n",
    "            if numbers[min_idx] > numbers[j]:\n",
    "                min_idx = j\n",
    "\n",
    "        #入れ替え\n",
    "        numbers[i], numbers[min_idx] = numbers[min_idx], numbers[i]\n",
    "    return numbers\n",
    "\n",
    "\n",
    "if __name__ == '__main__':\n",
    "    import random\n",
    "\n",
    "    nums = [random.randint(0, 1000) for _ in range(10)]\n",
    "    selection_sort(nums)"
   ]
  },
  {
   "cell_type": "markdown",
   "metadata": {
    "collapsed": false
   },
   "source": [
    "### quickソート"
   ]
  },
  {
   "cell_type": "code",
   "execution_count": 21,
   "metadata": {
    "collapsed": false,
    "pycharm": {
     "name": "#%%\n"
    }
   },
   "outputs": [],
   "source": [
    "from typing import List\n",
    "\n",
    "\n",
    "def partition(numbers: List[int], low: int, high: int) -> int:\n",
    "    i = low - 1\n",
    "    pivot = numbers[high]\n",
    "    for j in range(low, high):\n",
    "        if numbers[j] <= pivot:\n",
    "            i += 1\n",
    "            numbers[i], numbers[j] = numbers[j], numbers[i]\n",
    "    numbers[i + 1], numbers[high] = numbers[high], numbers[i + 1]\n",
    "    return i + 1\n",
    "\n",
    "\n",
    "def quick_sort(numbers: List[int]) -> List[int]:\n",
    "    def _quick_sort(numbers: List[int], low: int, high: int) -> None:\n",
    "        if low < high:\n",
    "            partition_index = partition(numbers, low, high)\n",
    "            _quick_sort(numbers, low, partition_index - 1)\n",
    "            _quick_sort(numbers, partition_index + 1, high)\n",
    "\n",
    "    _quick_sort(numbers, 0, len(numbers) - 1)\n",
    "    return numbers\n",
    "\n",
    "\n",
    "if __name__ == '__main__':\n",
    "    import random\n",
    "\n",
    "    num = [random.randint(0, 1000) for _ in range(10)]\n",
    "    quick_sort(num)"
   ]
  },
  {
   "cell_type": "markdown",
   "metadata": {
    "collapsed": false
   },
   "source": [
    "## リンクリスト"
   ]
  },
  {
   "cell_type": "code",
   "execution_count": null,
   "metadata": {
    "collapsed": false,
    "pycharm": {
     "name": "#%%\n"
    }
   },
   "outputs": [],
   "source": []
  },
  {
   "cell_type": "markdown",
   "metadata": {
    "collapsed": false
   },
   "source": [
    "## キュー&スタック\n",
    "### キュー"
   ]
  },
  {
   "cell_type": "code",
   "execution_count": 14,
   "metadata": {
    "collapsed": false,
    "pycharm": {
     "name": "#%%\n"
    }
   },
   "outputs": [],
   "source": [
    "from typing import Any\n",
    "\n",
    "\n",
    "class Queue(object):\n",
    "    def __init__(self):\n",
    "        self.queue = []\n",
    "\n",
    "    # データ追加\n",
    "    def enqueue(self, data: Any) -> None:\n",
    "        self.queue.append(data)\n",
    "\n",
    "    # データ取り出し\n",
    "    def dequeue(self, data: Any) -> Any:\n",
    "        if self.queue:\n",
    "            return self.queue.pop(0)\n",
    "\n",
    "\n",
    "if __name__ == '__main__':\n",
    "    q = Queue()\n",
    "    q.enqueue(1)\n",
    "    q.dequeue(1)\n"
   ]
  },
  {
   "cell_type": "markdown",
   "metadata": {
    "collapsed": false
   },
   "source": [
    "### スタック"
   ]
  },
  {
   "cell_type": "code",
   "execution_count": 15,
   "metadata": {
    "collapsed": false,
    "pycharm": {
     "name": "#%%\n"
    }
   },
   "outputs": [],
   "source": [
    "from typing import Any\n",
    "\n",
    "\n",
    "class Stack(object):\n",
    "    def __init__(self) -> None:\n",
    "        self.stack = []\n",
    "\n",
    "    def push(self, data) -> None:\n",
    "        self.stack.append(data)\n",
    "\n",
    "    def pop(self) -> Any:\n",
    "        if self.stack:\n",
    "            return self.stack.pop()\n",
    "\n",
    "\n",
    "if __name__ == '__main__':\n",
    "    stack = Stack()\n",
    "    stack.push(1)\n",
    "    stack.pop()"
   ]
  },
  {
   "cell_type": "markdown",
   "metadata": {
    "collapsed": false
   },
   "source": [
    "### サーチ\n",
    "## リニアサーチ"
   ]
  },
  {
   "cell_type": "code",
   "execution_count": 16,
   "metadata": {
    "collapsed": false,
    "pycharm": {
     "name": "#%%\n"
    }
   },
   "outputs": [],
   "source": [
    "from typing import List, NewType\n",
    "\n",
    "# 新しい型を定義\n",
    "IndexNum = NewType(\"IndexNum\", int)\n",
    "\n",
    "\n",
    "def linear_search(numbers: List[int], value: int) -> IndexNum:\n",
    "    for i in range(0, len(numbers)):\n",
    "        if numbers[i] == value:\n",
    "            return i\n",
    "    # もし存在しなかったら-1を返す\n",
    "    return -1"
   ]
  },
  {
   "cell_type": "markdown",
   "metadata": {
    "collapsed": false
   },
   "source": [
    "### バイナリサーチ"
   ]
  },
  {
   "cell_type": "code",
   "execution_count": 17,
   "metadata": {
    "collapsed": false,
    "pycharm": {
     "name": "#%%\n"
    }
   },
   "outputs": [],
   "source": [
    "def binary_search(numbers: List[int], value: int) -> IndexNum:\n",
    "    left, right = 0, len(numbers) - 1\n",
    "    while left < right:\n",
    "        mid = (left + right) // 2\n",
    "        if numbers[mid] == value:\n",
    "            return mid\n",
    "        elif numbers[mid] < value:\n",
    "            left = mid + 1\n",
    "        else:\n",
    "            right = mid - 1\n",
    "    return -1\n",
    "\n",
    "\n",
    "#リカージョンで記述した時。\n",
    "\n",
    "def binary_search(numbers: List[int], value: int) -> IndexNum:\n",
    "    def _binary_search(numbers: List[int], value,\n",
    "                       left: IndexNum, right: IndexNum) -> IndexNum:\n",
    "        if left > right:\n",
    "            return -1\n",
    "        mid = (left + right) // 2\n",
    "        if numbers[mid] == value:\n",
    "            return mid\n",
    "        elif numbers < value:\n",
    "            return _binary_search(numbers, value, mid + 1, right)\n",
    "        else:\n",
    "            return _binary_search(numbers, value, left, mid - 1)\n",
    "\n",
    "    return _binary_search(numbers, value, 0, len(numbers) - 1)\n",
    "\n",
    "\n",
    "if __name__ == '__main__':\n",
    "    num = [0, 1, 3, 5, 6, 11, 25, 40]"
   ]
  },
  {
   "cell_type": "markdown",
   "metadata": {
    "collapsed": false
   },
   "source": [
    "## ハッシュテーブル"
   ]
  },
  {
   "cell_type": "code",
   "execution_count": 23,
   "metadata": {
    "collapsed": false,
    "pycharm": {
     "name": "#%%\n"
    }
   },
   "outputs": [],
   "source": [
    "import hashlib\n",
    "\n",
    "\n",
    "class HashTable(object):\n",
    "    def __init__(self, size=10) -> None:\n",
    "        self.size = size\n",
    "        self.table = [[] for _ in range(self.size)]\n",
    "\n",
    "    def hash(self, key) -> int:\n",
    "        #１６進数で帰ってくる\n",
    "        # initのsizeで割ると余りがでてsizeに分けられる\n",
    "        return int(hashlib.md5(key.encode()).hexdigest(), base=16) % self.size\n",
    "\n",
    "    def add(self, key, value) -> None:\n",
    "        index = self.hash(key)\n",
    "        for data in self.table[index]:\n",
    "            if data[0] == key:\n",
    "                data[1] = value\n",
    "                break\n",
    "        else:\n",
    "            self.table[index].append([key, value])\n",
    "\n",
    "    def print(self) -> None:\n",
    "        for index in range(self.size):\n",
    "            #endで改行なしのprint\n",
    "            for data in self.table[index]:\n",
    "                print('-->', end=' ')\n",
    "                print(data, end=' ')\n",
    "            print()\n",
    "\n",
    "    from typing import Any\n",
    "    def get(self, key) -> Any:\n",
    "        index = self.hash(key)\n",
    "        for data in self.table[index]:\n",
    "            if data[0] == key:\n",
    "                return data[1]\n",
    "\n",
    "\n",
    "if __name__ == '__main__':\n",
    "    hash_table = HashTable()\n",
    "    hash_table.add(\"car\", \"mamushi\")\n",
    "    hash_table.add(\"car\", \"ms\")\n",
    "    hash_table.table"
   ]
  },
  {
   "cell_type": "markdown",
   "metadata": {
    "collapsed": false
   },
   "source": [
    "## 二分木"
   ]
  },
  {
   "cell_type": "code",
   "execution_count": null,
   "metadata": {
    "collapsed": false,
    "pycharm": {
     "name": "#%%\n"
    }
   },
   "outputs": [],
   "source": [
    "class Node(object):\n",
    "    def __init__(self, value: int) -> None:\n",
    "        self.value = value\n",
    "        self.left = None\n",
    "        self.right = None\n",
    "\n"
   ]
  }
 ],
 "metadata": {
  "kernelspec": {
   "display_name": "Python 3",
   "language": "python",
   "name": "python3"
  },
  "language_info": {
   "codemirror_mode": {
    "name": "ipython",
    "version": 2
   },
   "file_extension": ".py",
   "mimetype": "text/x-python",
   "name": "python",
   "nbconvert_exporter": "python",
   "pygments_lexer": "ipython2",
   "version": "2.7.6"
  }
 },
 "nbformat": 4,
 "nbformat_minor": 0
}
